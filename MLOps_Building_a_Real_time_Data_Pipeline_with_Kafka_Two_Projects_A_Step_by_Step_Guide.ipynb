{
  "nbformat": 4,
  "nbformat_minor": 0,
  "metadata": {
    "colab": {
      "provenance": [],
      "authorship_tag": "ABX9TyMslXZl1OLp0jsx75uHL3pI"
    },
    "kernelspec": {
      "name": "python3",
      "display_name": "Python 3"
    },
    "language_info": {
      "name": "python"
    }
  },
  "cells": [
    {
      "cell_type": "markdown",
      "source": [
        "[Reference](https://levelup.gitconnected.com/mlops-building-a-real-time-data-pipeline-with-kafka-two-projects-a-step-by-step-guide-d93bace2676c)"
      ],
      "metadata": {
        "id": "dTFlmXQsMmeN"
      }
    },
    {
      "cell_type": "markdown",
      "source": [
        "# Installation Steps:"
      ],
      "metadata": {
        "id": "h0aC1vGHUXO_"
      }
    },
    {
      "cell_type": "markdown",
      "source": [
        "## 1. Install Prerequisites:"
      ],
      "metadata": {
        "id": "AQ70IXZPUYMb"
      }
    },
    {
      "cell_type": "code",
      "execution_count": 2,
      "metadata": {
        "id": "f3SqGT2WMAGC"
      },
      "outputs": [],
      "source": [
        "# brew install openjdk@11"
      ]
    },
    {
      "cell_type": "code",
      "source": [
        "# echo 'export PATH=\"/usr/local/opt/openjdk@11/bin:$PATH\"' >> ~/.zshrc"
      ],
      "metadata": {
        "id": "cvPTt0R7UST8"
      },
      "execution_count": 3,
      "outputs": []
    },
    {
      "cell_type": "markdown",
      "source": [
        "## 2. Install Kafka:"
      ],
      "metadata": {
        "id": "1V6-AkZDUZQ9"
      }
    },
    {
      "cell_type": "code",
      "source": [
        "# brew install kafka"
      ],
      "metadata": {
        "id": "mzRaNqOdUTs6"
      },
      "execution_count": 4,
      "outputs": []
    },
    {
      "cell_type": "markdown",
      "source": [
        "## 3. Start ZooKeeper:"
      ],
      "metadata": {
        "id": "nImBkwFnUaf2"
      }
    },
    {
      "cell_type": "code",
      "source": [
        "# zookeeper-server-start /usr/local/etc/kafka/zookeeper.properties"
      ],
      "metadata": {
        "id": "M0T4z6DWUa4D"
      },
      "execution_count": 5,
      "outputs": []
    },
    {
      "cell_type": "markdown",
      "source": [
        "# 4. Start Kafka Server:"
      ],
      "metadata": {
        "id": "JoiJ9oEMUhJW"
      }
    },
    {
      "cell_type": "code",
      "source": [
        "# kafka-server-start /usr/local/etc/kafka/server.properties"
      ],
      "metadata": {
        "id": "zMsJsab8Ue72"
      },
      "execution_count": 6,
      "outputs": []
    },
    {
      "cell_type": "markdown",
      "source": [
        "# Data Flow:"
      ],
      "metadata": {
        "id": "6EiSJTa3UkPN"
      }
    },
    {
      "cell_type": "markdown",
      "source": [
        "![Data flow](https://miro.medium.com/v2/resize:fit:2000/format:webp/1*2M4FggXUsHHy1iJ9d4VajA.png)"
      ],
      "metadata": {
        "id": "azUZJWvDUmDj"
      }
    },
    {
      "cell_type": "markdown",
      "source": [
        "# Topic & Producer:"
      ],
      "metadata": {
        "id": "NxWbPIGQUo2c"
      }
    },
    {
      "cell_type": "markdown",
      "source": [
        "## Task1 : Create a Kafka Producer for Simulated Weather Data:\n"
      ],
      "metadata": {
        "id": "jBz_gfgYUriA"
      }
    },
    {
      "cell_type": "code",
      "source": [
        "# Create a topic named \"weather_forecasts\"\n",
        "kafka-topics.sh --create --bootstrap-server localhost:9092 --replication-factor 1 --partitions 1 --topic weather_forecasts"
      ],
      "metadata": {
        "id": "ml82AvsFUnlT"
      },
      "execution_count": 7,
      "outputs": []
    },
    {
      "cell_type": "markdown",
      "source": [
        "## Task 2: Import the Kafka Producer and Necessary Libraries"
      ],
      "metadata": {
        "id": "3ao93K8RUwch"
      }
    },
    {
      "cell_type": "code",
      "source": [
        "# from kafka import KafkaProducer\n",
        "# import json  # If you need to send JSON-formatted data\n",
        "# import time  # For any time-related tasks like sleep\n",
        "# import random  # If you're simulating data and need random values"
      ],
      "metadata": {
        "colab": {
          "base_uri": "https://localhost:8080/",
          "height": 361
        },
        "id": "ui8FaBelUux8",
        "outputId": "f8294530-6c89-4e33-861e-ad3eb4aaf8f7"
      },
      "execution_count": 8,
      "outputs": [
        {
          "output_type": "error",
          "ename": "ModuleNotFoundError",
          "evalue": "ignored",
          "traceback": [
            "\u001b[0;31m---------------------------------------------------------------------------\u001b[0m",
            "\u001b[0;31mModuleNotFoundError\u001b[0m                       Traceback (most recent call last)",
            "\u001b[0;32m<ipython-input-8-62f7c7313805>\u001b[0m in \u001b[0;36m<cell line: 1>\u001b[0;34m()\u001b[0m\n\u001b[0;32m----> 1\u001b[0;31m \u001b[0;32mfrom\u001b[0m \u001b[0mkafka\u001b[0m \u001b[0;32mimport\u001b[0m \u001b[0mKafkaProducer\u001b[0m\u001b[0;34m\u001b[0m\u001b[0;34m\u001b[0m\u001b[0m\n\u001b[0m\u001b[1;32m      2\u001b[0m \u001b[0;32mimport\u001b[0m \u001b[0mjson\u001b[0m  \u001b[0;31m# If you need to send JSON-formatted data\u001b[0m\u001b[0;34m\u001b[0m\u001b[0;34m\u001b[0m\u001b[0m\n\u001b[1;32m      3\u001b[0m \u001b[0;32mimport\u001b[0m \u001b[0mtime\u001b[0m  \u001b[0;31m# For any time-related tasks like sleep\u001b[0m\u001b[0;34m\u001b[0m\u001b[0;34m\u001b[0m\u001b[0m\n\u001b[1;32m      4\u001b[0m \u001b[0;32mimport\u001b[0m \u001b[0mrandom\u001b[0m  \u001b[0;31m# If you're simulating data and need random values\u001b[0m\u001b[0;34m\u001b[0m\u001b[0;34m\u001b[0m\u001b[0m\n",
            "\u001b[0;31mModuleNotFoundError\u001b[0m: No module named 'kafka'",
            "",
            "\u001b[0;31m---------------------------------------------------------------------------\u001b[0;32m\nNOTE: If your import is failing due to a missing package, you can\nmanually install dependencies using either !pip or !apt.\n\nTo view examples of installing some common dependencies, click the\n\"Open Examples\" button below.\n\u001b[0;31m---------------------------------------------------------------------------\u001b[0m\n"
          ],
          "errorDetails": {
            "actions": [
              {
                "action": "open_url",
                "actionText": "Open Examples",
                "url": "/notebooks/snippets/importing_libraries.ipynb"
              }
            ]
          }
        }
      ]
    },
    {
      "cell_type": "markdown",
      "source": [
        "## Task 3: Create the Producer in Python\n",
        "## Task 4: Generate Random Weather Data\n",
        "## Task 5: Send Weather Data to the Topic"
      ],
      "metadata": {
        "id": "zlgICj1fU2H7"
      }
    },
    {
      "cell_type": "code",
      "source": [
        "from kafka import KafkaProducer\n",
        "import time\n",
        "import random\n",
        "\n",
        "producer = KafkaProducer(bootstrap_servers='localhost:9092')\n",
        "\n",
        "WEATHER_STATES = ['Sunny', 'Rainy', 'Windy', 'Cloudy', 'Snowy']\n",
        "\n",
        "while True:\n",
        "    weather = random.choice(WEATHER_STATES)\n",
        "    temperature = random.randint(-5, 35)  # temperatures from -5°C to 35°C\n",
        "    humidity = random.randint(10, 90)  # humidity percentage\n",
        "\n",
        "    message = f\"Weather: {weather}, Temperature: {temperature}°C, Humidity: {humidity}%\"\n",
        "    producer.send('weather_forecasts', value=message.encode('utf-8'))\n",
        "    time.sleep(5)  # Send every 5 seconds"
      ],
      "metadata": {
        "id": "_bPjv04RU4dD"
      },
      "execution_count": 9,
      "outputs": []
    },
    {
      "cell_type": "markdown",
      "source": [
        "# Consumer:"
      ],
      "metadata": {
        "id": "Z_j8MfByU981"
      }
    },
    {
      "cell_type": "markdown",
      "source": [
        "## Task 6: Import the Kafka Consumer and Necessary Libraries\n",
        "## Task 7: Create the Consumer in Python\n",
        "## Task 8: Decode and Visualize the Weather Data"
      ],
      "metadata": {
        "id": "wnpxR4P5VGem"
      }
    },
    {
      "cell_type": "code",
      "source": [
        "from kafka import KafkaConsumer\n",
        "import matplotlib.pyplot as plt\n",
        "\n",
        "consumer = KafkaConsumer('weather_forecasts', bootstrap_servers='localhost:9092')\n",
        "\n",
        "temperatures, humidities = [], []\n",
        "\n",
        "plt.ion()  # Turn on interactive mode\n",
        "\n",
        "while True:\n",
        "    for message in consumer:\n",
        "        data = message.value.decode()\n",
        "        temp = int(data.split(\"Temperature: \")[1].split(\"°C\")[0])\n",
        "        humidity = int(data.split(\"Humidity: \")[1].split(\"%\")[0])\n",
        "\n",
        "        temperatures.append(temp)\n",
        "        humidities.append(humidity)\n",
        "\n",
        "        if len(temperatures) > 50:\n",
        "            temperatures.pop(0)\n",
        "            humidities.pop(0)\n",
        "\n",
        "        plt.clf()  # clear the plot\n",
        "        plt.subplot(2, 1, 1)\n",
        "        plt.plot(temperatures, label=\"Temperature (°C)\")\n",
        "        plt.legend()\n",
        "\n",
        "        plt.subplot(2, 1, 2)\n",
        "        plt.plot(humidities, label=\"Humidity (%)\")\n",
        "        plt.legend()\n",
        "\n",
        "        plt.pause(5)  # refresh every 5 seconds"
      ],
      "metadata": {
        "id": "8BFZ_XHlVJmn"
      },
      "execution_count": 15,
      "outputs": []
    },
    {
      "cell_type": "markdown",
      "source": [
        "# Execution of the Pipeline:"
      ],
      "metadata": {
        "id": "5Y4tCP7-VMmD"
      }
    },
    {
      "cell_type": "markdown",
      "source": [
        "1. Complete the 1–4 steps from installation prerequisite to Start Kafha server.\n",
        "2. Create the Kafka topic — mentioned above.\n",
        "3. Set up a Python environment:Install virtualenv (If not installed): Virtual environments are helpful to manage Python dependencies per project."
      ],
      "metadata": {
        "id": "9zG4vry_VOzm"
      }
    },
    {
      "cell_type": "markdown",
      "source": [
        "4. Create a virtual environment:"
      ],
      "metadata": {
        "id": "ha01YVLSVTHN"
      }
    },
    {
      "cell_type": "code",
      "source": [
        "virtualenv kafka_env"
      ],
      "metadata": {
        "id": "4HHXIFQAVJ-B"
      },
      "execution_count": 13,
      "outputs": []
    },
    {
      "cell_type": "markdown",
      "source": [
        "5. Activate the virtual environment:"
      ],
      "metadata": {
        "id": "GBk9unHOVWe5"
      }
    },
    {
      "cell_type": "code",
      "source": [
        "source kafka_env/bin/activate  # macOS/Linux\n",
        "kafka_env\\Scripts\\activate     # Windows"
      ],
      "metadata": {
        "id": "eajcgBSDVVxA"
      },
      "execution_count": 14,
      "outputs": []
    },
    {
      "cell_type": "markdown",
      "source": [
        "6.Install necessary Python libraries:"
      ],
      "metadata": {
        "id": "30eLRQe5VZZf"
      }
    },
    {
      "cell_type": "code",
      "source": [
        "pip install kafka-python, matplotlib"
      ],
      "metadata": {
        "id": "mBMXBl8HVXsK"
      },
      "execution_count": 11,
      "outputs": []
    },
    {
      "cell_type": "markdown",
      "source": [
        "7. Write the Kafka Producer script: <br>\n",
        "Copy the Python script (e.g., producer.py) and implement the code to produce simulated weather data."
      ],
      "metadata": {
        "id": "-qA6y5KtVgOb"
      }
    },
    {
      "cell_type": "markdown",
      "source": [
        "8.Run the Kafka Producer script"
      ],
      "metadata": {
        "id": "nnAlFJGGVlIn"
      }
    },
    {
      "cell_type": "code",
      "source": [
        "python producer.py"
      ],
      "metadata": {
        "id": "pfUBdThCVaj9"
      },
      "execution_count": 16,
      "outputs": []
    },
    {
      "cell_type": "markdown",
      "source": [
        "9. Run the Consumer Script in another terminal <br>\n",
        "Navigate to the directory where your consumer script (consumer.py or any other name you've chosen) is saved."
      ],
      "metadata": {
        "id": "-x57NlheVoGX"
      }
    },
    {
      "cell_type": "markdown",
      "source": [
        "Activate your virtual environment if it’s not already activated:"
      ],
      "metadata": {
        "id": "AzIVIVxlVq2n"
      }
    },
    {
      "cell_type": "code",
      "source": [
        "source venv_kafka/bin/activate\n",
        "python consumer.py"
      ],
      "metadata": {
        "id": "Mgq-7SWlVmmv"
      },
      "execution_count": 17,
      "outputs": []
    },
    {
      "cell_type": "code",
      "source": [
        "kafka-server-stop.sh\n",
        "zookeeper-server-stop.sh\n",
        "\n",
        "#Deactivate the virtual environment:\n",
        "deactivate"
      ],
      "metadata": {
        "id": "QZSxRxjbVtzo"
      },
      "execution_count": 18,
      "outputs": []
    }
  ]
}