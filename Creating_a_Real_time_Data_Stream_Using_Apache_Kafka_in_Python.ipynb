{
  "nbformat": 4,
  "nbformat_minor": 0,
  "metadata": {
    "colab": {
      "provenance": [],
      "collapsed_sections": [],
      "authorship_tag": "ABX9TyM9yTT0iGWaJjCNPKF0EEtV"
    },
    "kernelspec": {
      "name": "python3",
      "display_name": "Python 3"
    },
    "language_info": {
      "name": "python"
    }
  },
  "cells": [
    {
      "cell_type": "markdown",
      "source": [
        "[Reference](https://medium.com/the-research-nest/creating-a-real-time-data-stream-using-apache-kafka-in-python-132e0e5630d3)"
      ],
      "metadata": {
        "id": "uYUu2ouB3sqE"
      }
    },
    {
      "cell_type": "code",
      "execution_count": 1,
      "metadata": {
        "id": "d75Oy1dM3rB7"
      },
      "outputs": [],
      "source": [
        "# $ bin/kafka-topics.sh --create --topic data-stream --bootstrap-server localhost:9092"
      ]
    },
    {
      "cell_type": "code",
      "source": [
        "# $ sudo apt install python3-pip"
      ],
      "metadata": {
        "id": "fld8Y98r3wHO"
      },
      "execution_count": 2,
      "outputs": []
    },
    {
      "cell_type": "code",
      "source": [
        "# $ sudo apt install python3-venv"
      ],
      "metadata": {
        "id": "SIFJC9Dp3zem"
      },
      "execution_count": 3,
      "outputs": []
    },
    {
      "cell_type": "code",
      "source": [
        "# $ mkdir kafka-stream\n",
        "# $ cd kafka-stream/"
      ],
      "metadata": {
        "id": "8krwkocJ31DW"
      },
      "execution_count": 4,
      "outputs": []
    },
    {
      "cell_type": "code",
      "source": [
        "# $ python3 -m venv .kafka"
      ],
      "metadata": {
        "id": "AHY61wv432li"
      },
      "execution_count": 5,
      "outputs": []
    },
    {
      "cell_type": "code",
      "source": [
        "# $ source .kafka/bin/activate"
      ],
      "metadata": {
        "id": "4uLYrF9Q34Qn"
      },
      "execution_count": 6,
      "outputs": []
    },
    {
      "cell_type": "code",
      "source": [
        "# $ pip install kafka-python"
      ],
      "metadata": {
        "id": "2aX2EhK_353k"
      },
      "execution_count": 7,
      "outputs": []
    },
    {
      "cell_type": "code",
      "source": [
        "# $ code ."
      ],
      "metadata": {
        "id": "fPipV9Oo375K"
      },
      "execution_count": 8,
      "outputs": []
    },
    {
      "cell_type": "code",
      "source": [
        "# # producer.py\n",
        "# from kafka import KafkaProducer\n",
        "# from time import sleep\n",
        "# import requests\n",
        "# import json\n",
        "\n",
        "# # Coinbase API endpoint\n",
        "# url = 'https://api.coinbase.com/v2/prices/btc-usd/spot'\n",
        "\n",
        "# # Producing as JSON\n",
        "# producer = KafkaProducer(bootstrap_servers=['localhost:9092'],\n",
        "# value_serializer=lambda m: json.dumps(m).encode('ascii'))\n",
        "\n",
        "# while(True):\n",
        "#     sleep(2)\n",
        "#     price = ((requests.get(url)).json())\n",
        "#     print(\"Price fetched\")\n",
        "#     producer.send('data-stream', price)\n",
        "#     print(\"Price sent to consumer\")"
      ],
      "metadata": {
        "id": "OERwTGmT4ATB"
      },
      "execution_count": 9,
      "outputs": []
    },
    {
      "cell_type": "code",
      "source": [
        "# # consumer.py\n",
        "# from kafka import KafkaConsumer\n",
        "# import json\n",
        "\n",
        "# # Getting the data as JSON\n",
        "# consumer = KafkaConsumer('data-stream',\n",
        "# bootstrap_servers=['localhost:9092'],\n",
        "# value_deserializer=lambda m: json.loads(m.decode('ascii')))\n",
        "\n",
        "# for message in consumer:\n",
        "#     price = (message.value)['data']['amount']\n",
        "#     print('Bitcoin price: ' + price)"
      ],
      "metadata": {
        "id": "Vq9HaCsh4GLt"
      },
      "execution_count": 10,
      "outputs": []
    },
    {
      "cell_type": "code",
      "source": [
        "# $ rm -rf /tmp/kafka-logs /tmp/zookeeper"
      ],
      "metadata": {
        "id": "SwGbfU8K4K1i"
      },
      "execution_count": 11,
      "outputs": []
    }
  ]
}