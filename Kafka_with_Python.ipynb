{
  "nbformat": 4,
  "nbformat_minor": 0,
  "metadata": {
    "colab": {
      "name": "Kafka with Python.ipynb",
      "provenance": [],
      "authorship_tag": "ABX9TyP0mdFEv03cAW7ewfQ2mAPd"
    },
    "kernelspec": {
      "name": "python3",
      "display_name": "Python 3"
    },
    "language_info": {
      "name": "python"
    }
  },
  "cells": [
    {
      "cell_type": "markdown",
      "source": [
        "[Reference](https://blog.devgenius.io/kafka-with-python-4eb017b41e83)"
      ],
      "metadata": {
        "id": "BPe4LKTZEXMo"
      }
    },
    {
      "cell_type": "markdown",
      "source": [
        "![kafka](https://miro.medium.com/max/1400/1*xD21zmTiOqiIpV6zfsWgJw.png)"
      ],
      "metadata": {
        "id": "XfkKtzNPETFw"
      }
    },
    {
      "cell_type": "markdown",
      "source": [
        "- Broker: Each broker have its own ocal storage and retention time.\n",
        "- Topic: A collection of related messages or events\n",
        "- Partition: Topic is divided into partitions"
      ],
      "metadata": {
        "id": "LEQKch77EY-h"
      }
    },
    {
      "cell_type": "markdown",
      "source": [
        "![Brokers](https://miro.medium.com/max/1012/1*g0BITDxBLNXLl-sOqlRQKA.png)"
      ],
      "metadata": {
        "id": "0vxACqXhEuK3"
      }
    },
    {
      "cell_type": "markdown",
      "source": [
        "- Producer: Writes messages to one or more topics\n",
        "- Consumer: Reads messages from one or more topics\n",
        "- Zookeeper: Manages and coordinates Kafka broker"
      ],
      "metadata": {
        "id": "_hzIZz8sEwwT"
      }
    },
    {
      "cell_type": "markdown",
      "source": [
        "![Kafka Cluster](https://miro.medium.com/max/1400/1*IxmkzxknpZwjdhHtuyUG3g.png)"
      ],
      "metadata": {
        "id": "ICckPulyFA07"
      }
    },
    {
      "cell_type": "markdown",
      "source": [
        "- Download apache kafka: https://kafka.apache.org/downloads\n",
        "- Install the kafka-python library: https://pypi.org/project/kafka-python/"
      ],
      "metadata": {
        "id": "cWQy8avtFFEY"
      }
    },
    {
      "cell_type": "code",
      "source": [
        "!pip install kafka-python"
      ],
      "metadata": {
        "colab": {
          "base_uri": "https://localhost:8080/"
        },
        "id": "Wj5TNIK-FUyF",
        "outputId": "cfccb679-a8ea-41d3-b137-89427d987f5e"
      },
      "execution_count": 2,
      "outputs": [
        {
          "output_type": "stream",
          "name": "stdout",
          "text": [
            "Looking in indexes: https://pypi.org/simple, https://us-python.pkg.dev/colab-wheels/public/simple/\n",
            "Collecting kafka-python\n",
            "  Downloading kafka_python-2.0.2-py2.py3-none-any.whl (246 kB)\n",
            "\u001b[K     |████████████████████████████████| 246 kB 29.2 MB/s \n",
            "\u001b[?25hInstalling collected packages: kafka-python\n",
            "Successfully installed kafka-python-2.0.2\n"
          ]
        }
      ]
    },
    {
      "cell_type": "code",
      "execution_count": 4,
      "metadata": {
        "id": "ewHvQrXlBUra"
      },
      "outputs": [],
      "source": [
        "# producer code\n",
        "from kafka import KafkaProducer\n",
        "import os\n",
        "from datetime import datetime\n",
        "import time\n",
        "\n",
        "now = datetime.now()\n",
        "\n",
        "bootstrap_servers = ['localhost:9092']\n",
        "topicName = 'Media'\n",
        "producer = KafkaProducer(bootstrap_servers = bootstrap_servers)\n",
        "producer = KafkaProducer()\n",
        "\n",
        "base_path = os.getcwd()\n",
        "source = base_path+'/server/'\n",
        "destination = base_path+'/local_dir/'\n",
        "\n",
        "files = os.listdir(source)\n",
        "\n",
        "time.sleep(15)\n",
        "\n",
        "\n",
        "for file in files:\n",
        "    os.rename(source + file, destination + file)\n",
        "    current_time = now.strftime(\"%H:%M:%S\")\n",
        "    data = {\"time\":current_time,\"file_path\":destination + file}\n",
        "    ack = producer.send(topicName, bytes(str(data), 'utf-8'))\n",
        "    print(ack.get())"
      ]
    },
    {
      "cell_type": "code",
      "source": [
        "# consumer code\n",
        "from kafka import KafkaConsumer\n",
        "\n",
        "bootstrap_servers = ['localhost:9092']\n",
        "topicName = 'Media'\n",
        "consumer = KafkaConsumer (topicName,bootstrap_servers = bootstrap_servers)\n",
        "\n",
        "for message in consumer:\n",
        "    print(message)"
      ],
      "metadata": {
        "id": "05YVptobFQiy"
      },
      "execution_count": 5,
      "outputs": []
    },
    {
      "cell_type": "markdown",
      "source": [
        "# Run\n",
        "- Start the zookeepr and kafka\n",
        "```\n",
        "$ bin/zookeeper-server-start.sh config/zookeeper.properties\n",
        "$ bin/kafka-server-start.sh config/server.properties\n",
        "```\n",
        "- Run the producer program first and then the consumer program\n",
        "\n",
        "- Verify that the consumer prints the messages that were written by the producer"
      ],
      "metadata": {
        "id": "_CqJQ-ZLFm6e"
      }
    }
  ]
}